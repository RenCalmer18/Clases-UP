{
 "cells": [
  {
   "cell_type": "code",
   "execution_count": 1,
   "id": "22c6e441-c0e0-4417-b878-d67ca1a50363",
   "metadata": {},
   "outputs": [],
   "source": [
    "class Empleado():\n",
    "    nombre: str\n",
    "    puesto: str\n",
    "    salario: int\n",
    "    tiempo: int\n",
    "    \n",
    "    \n",
    "    def __init__(self, nombre, puesto, tiempo):\n",
    "        self.nombre = nombre\n",
    "        self.puesto = puesto\n",
    "        self.tiempo = tiempo\n",
    "        \n",
    "    def __repr__(self):\n",
    "        return(\n",
    "            self.nombre +\" es \" +\n",
    "            self.puesto +\", y su salario es: $\" +\n",
    "            str(self.calcular_salario())\n",
    "        )\n",
    "    \n",
    "    def calcular_salario(self):\n",
    "        return(self.salario +(1000 * self.tiempo))\n",
    "    \n",
    "\n",
    "class Gerente(Empleado):\n",
    "    def __init__(self, nombre, puesto, tiempo):\n",
    "        super().__init__(nombre, puesto,tiempo)\n",
    "        self.salario = 50_000;\n",
    "    \n",
    "    def calcular_salario(self):\n",
    "        return self.salario\n",
    "    \n",
    "    def cambiar_salario(self, empleado, nuevo_salario):\n",
    "            empleado.salario = nuevo_salario;\n",
    "        \n",
    "class Secretaria(Empleado):\n",
    "    def __init__(self, nombre, puesto, tiempo):\n",
    "        super().__init__(nombre, puesto, tiempo)\n",
    "        self.salario = 15_000\n",
    "\n",
    "class Programador(Empleado):\n",
    "    def __init__(self, nombre, puesto, tiempo):\n",
    "        super().__init__(nombre, puesto, antiguedad)\n",
    "        self.salario = 25_000\n",
    "\n",
    "\n",
    "        "
   ]
  },
  {
   "cell_type": "code",
   "execution_count": 2,
   "id": "4de7300d-5fc0-46ef-bb6f-35181aee2fd6",
   "metadata": {},
   "outputs": [
    {
     "name": "stdout",
     "output_type": "stream",
     "text": [
      "regina es  gerente, y su salario es: $50000\n",
      "renata es  secretaria, y su salario es: $17000\n",
      "diego es  programador, y su salario es: $27000\n",
      "renata es  secretaria, y su salario es: $52000\n"
     ]
    }
   ],
   "source": [
    "regina=Gerente(\"regina\", \" gerente\",2)\n",
    "print(regina)\n",
    "renata=Secretaria(\"renata\", \" secretaria\",2)\n",
    "print(renata)\n",
    "diego=Programador(\"diego\", \" programador\", 2)\n",
    "print(diego)\n",
    "\n",
    "regina.cambiar_salario(renata, 50_000);\n",
    "print(renata)"
   ]
  },
  {
   "cell_type": "code",
   "execution_count": null,
   "id": "15060099-37ee-4560-bae1-34887ada9631",
   "metadata": {},
   "outputs": [],
   "source": []
  }
 ],
 "metadata": {
  "kernelspec": {
   "display_name": "Python 3 (ipykernel)",
   "language": "python",
   "name": "python3"
  },
  "language_info": {
   "codemirror_mode": {
    "name": "ipython",
    "version": 3
   },
   "file_extension": ".py",
   "mimetype": "text/x-python",
   "name": "python",
   "nbconvert_exporter": "python",
   "pygments_lexer": "ipython3",
   "version": "3.9.5"
  }
 },
 "nbformat": 4,
 "nbformat_minor": 5
}
