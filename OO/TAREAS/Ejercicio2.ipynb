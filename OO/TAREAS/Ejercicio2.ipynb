{
 "cells": [
  {
   "cell_type": "code",
   "execution_count": 5,
   "id": "22c6e441-c0e0-4417-b878-d67ca1a50363",
   "metadata": {},
   "outputs": [],
   "source": [
    "class Empleado():\n",
    "    nombre: str\n",
    "    puesto: str\n",
    "    salario: int\n",
    "    antiguedad: int\n",
    "    \n",
    "    \n",
    "    def __init__(self, nombre, puesto, antiguedad):\n",
    "        self.nombre = nombre\n",
    "        self.puesto = puesto\n",
    "        self.antiguedad = antiguedad\n",
    "        \n",
    "    def __repr__(self):\n",
    "        return(\n",
    "            self.nombre +\" es \" +\n",
    "            self.puesto +\", y su salario es: $\" +\n",
    "            str(self.calcular_salario())\n",
    "        )\n",
    "    \n",
    "    def calcular_salario(self):\n",
    "        return(self.salrario +(1000 * self.antiguedad))\n",
    "    \n",
    "\n",
    "class Gerente(Empleado):\n",
    "    def __init__(self, nombre, puesto, antiguedad):\n",
    "        super().__init__(nombre, puesto,antiguedad)\n",
    "        self.salario = 50_000;\n",
    "    \n",
    "    def calcular_salario(self):\n",
    "        return self.salario\n",
    "    \n",
    "    def cambiar_salario(self, empleado, nuevo_salario):\n",
    "        if(empleado.puesto != \"gerente\"):\n",
    "            empleado.salario = nuevo_salario;\n",
    "        \n",
    "class Secretaria(Empleado):\n",
    "    def __init__(self, nombre, puesto, antiguedad):\n",
    "        super().__init__(nombre, puesto, antiguedad)\n",
    "        self.salario = 15_000\n",
    "\n",
    "class Programador(Empleado):\n",
    "    def __init__(self, nombre, puesto, antiguedad):\n",
    "        super().__init__(nombre, puesto, antiguedad)\n",
    "        self.salario = 25_000\n",
    "\n",
    "\n",
    "        "
   ]
  },
  {
   "cell_type": "code",
   "execution_count": 6,
   "id": "4de7300d-5fc0-46ef-bb6f-35181aee2fd6",
   "metadata": {},
   "outputs": [
    {
     "name": "stdout",
     "output_type": "stream",
     "text": [
      "regina es  gerente, y su salario es: $50000\n"
     ]
    },
    {
     "ename": "AttributeError",
     "evalue": "'Secretaria' object has no attribute 'salrario'",
     "output_type": "error",
     "traceback": [
      "\u001b[1;31m---------------------------------------------------------------------------\u001b[0m",
      "\u001b[1;31mAttributeError\u001b[0m                            Traceback (most recent call last)",
      "Input \u001b[1;32mIn [6]\u001b[0m, in \u001b[0;36m<module>\u001b[1;34m\u001b[0m\n\u001b[0;32m      2\u001b[0m \u001b[38;5;28mprint\u001b[39m(regina)\n\u001b[0;32m      3\u001b[0m renata\u001b[38;5;241m=\u001b[39mSecretaria(\u001b[38;5;124m\"\u001b[39m\u001b[38;5;124mrenata\u001b[39m\u001b[38;5;124m\"\u001b[39m, \u001b[38;5;124m\"\u001b[39m\u001b[38;5;124m secretaria\u001b[39m\u001b[38;5;124m\"\u001b[39m,\u001b[38;5;241m2\u001b[39m)\n\u001b[1;32m----> 4\u001b[0m \u001b[38;5;28;43mprint\u001b[39;49m\u001b[43m(\u001b[49m\u001b[43mrenata\u001b[49m\u001b[43m)\u001b[49m\n\u001b[0;32m      5\u001b[0m diego\u001b[38;5;241m=\u001b[39mProgramador(\u001b[38;5;124m\"\u001b[39m\u001b[38;5;124mdiego\u001b[39m\u001b[38;5;124m\"\u001b[39m, \u001b[38;5;124m\"\u001b[39m\u001b[38;5;124m programador\u001b[39m\u001b[38;5;124m\"\u001b[39m, \u001b[38;5;241m2\u001b[39m)\n\u001b[0;32m      6\u001b[0m \u001b[38;5;28mprint\u001b[39m(diego)\n",
      "Input \u001b[1;32mIn [5]\u001b[0m, in \u001b[0;36mEmpleado.__repr__\u001b[1;34m(self)\u001b[0m\n\u001b[0;32m     13\u001b[0m \u001b[38;5;28;01mdef\u001b[39;00m \u001b[38;5;21m__repr__\u001b[39m(\u001b[38;5;28mself\u001b[39m):\n\u001b[0;32m     14\u001b[0m     \u001b[38;5;28;01mreturn\u001b[39;00m(\n\u001b[0;32m     15\u001b[0m         \u001b[38;5;28mself\u001b[39m\u001b[38;5;241m.\u001b[39mnombre \u001b[38;5;241m+\u001b[39m\u001b[38;5;124m\"\u001b[39m\u001b[38;5;124m es \u001b[39m\u001b[38;5;124m\"\u001b[39m \u001b[38;5;241m+\u001b[39m\n\u001b[0;32m     16\u001b[0m         \u001b[38;5;28mself\u001b[39m\u001b[38;5;241m.\u001b[39mpuesto \u001b[38;5;241m+\u001b[39m\u001b[38;5;124m\"\u001b[39m\u001b[38;5;124m, y su salario es: $\u001b[39m\u001b[38;5;124m\"\u001b[39m \u001b[38;5;241m+\u001b[39m\n\u001b[1;32m---> 17\u001b[0m         \u001b[38;5;28mstr\u001b[39m(\u001b[38;5;28;43mself\u001b[39;49m\u001b[38;5;241;43m.\u001b[39;49m\u001b[43mcalcular_salario\u001b[49m\u001b[43m(\u001b[49m\u001b[43m)\u001b[49m)\n\u001b[0;32m     18\u001b[0m     )\n",
      "Input \u001b[1;32mIn [5]\u001b[0m, in \u001b[0;36mEmpleado.calcular_salario\u001b[1;34m(self)\u001b[0m\n\u001b[0;32m     20\u001b[0m \u001b[38;5;28;01mdef\u001b[39;00m \u001b[38;5;21mcalcular_salario\u001b[39m(\u001b[38;5;28mself\u001b[39m):\n\u001b[1;32m---> 21\u001b[0m     \u001b[38;5;28;01mreturn\u001b[39;00m(\u001b[38;5;28;43mself\u001b[39;49m\u001b[38;5;241;43m.\u001b[39;49m\u001b[43msalrario\u001b[49m \u001b[38;5;241m+\u001b[39m(\u001b[38;5;241m1000\u001b[39m \u001b[38;5;241m*\u001b[39m \u001b[38;5;28mself\u001b[39m\u001b[38;5;241m.\u001b[39mantiguedad))\n",
      "\u001b[1;31mAttributeError\u001b[0m: 'Secretaria' object has no attribute 'salrario'"
     ]
    }
   ],
   "source": [
    "regina=Gerente(\"regina\", \" gerente\",2)\n",
    "print(regina)\n",
    "renata=Secretaria(\"renata\", \" secretaria\",2)\n",
    "print(renata)\n",
    "diego=Programador(\"diego\", \" programador\", 2)\n",
    "print(diego)\n",
    "\n",
    "Regina.cambiar_salario(Renata, 50_000);\n",
    "print(Renata)"
   ]
  },
  {
   "cell_type": "code",
   "execution_count": null,
   "id": "15060099-37ee-4560-bae1-34887ada9631",
   "metadata": {},
   "outputs": [],
   "source": []
  }
 ],
 "metadata": {
  "kernelspec": {
   "display_name": "Python 3 (ipykernel)",
   "language": "python",
   "name": "python3"
  },
  "language_info": {
   "codemirror_mode": {
    "name": "ipython",
    "version": 3
   },
   "file_extension": ".py",
   "mimetype": "text/x-python",
   "name": "python",
   "nbconvert_exporter": "python",
   "pygments_lexer": "ipython3",
   "version": "3.9.5"
  }
 },
 "nbformat": 4,
 "nbformat_minor": 5
}
